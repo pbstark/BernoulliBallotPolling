{
 "cells": [
  {
   "cell_type": "markdown",
   "metadata": {},
   "source": [
    "# Experiments in Poisson/Binomial auditing"
   ]
  },
  {
   "cell_type": "code",
   "execution_count": 13,
   "metadata": {
    "collapsed": true
   },
   "outputs": [],
   "source": [
    "from __future__ import (absolute_import, division,\n",
    "                        print_function, unicode_literals)\n",
    "import math\n",
    "import numpy as np\n",
    "import scipy as sp\n",
    "import permute\n",
    "from scipy.stats import poisson, binom\n",
    "from permute.utils import binom_conf_interval, hypergeom_conf_interval"
   ]
  },
  {
   "cell_type": "markdown",
   "metadata": {},
   "source": [
    "## Minimum detectable margin using the Hoeffding bound"
   ]
  },
  {
   "cell_type": "code",
   "execution_count": 2,
   "metadata": {
    "collapsed": true
   },
   "outputs": [],
   "source": [
    "alpha = 0.05\n",
    "sqrt2logalpha = math.sqrt(-2*math.log(alpha))\n",
    "beta = 0.02"
   ]
  },
  {
   "cell_type": "code",
   "execution_count": 3,
   "metadata": {},
   "outputs": [
    {
     "name": "stdout",
     "output_type": "stream",
     "text": [
      "1000 3.8702275602049494\n",
      "10000 1.2238734153404083\n",
      "100000 0.3870227560204949\n",
      "1000000 0.12238734153404082\n",
      "10000000 0.03870227560204949\n"
     ]
    }
   ],
   "source": [
    "for N in [10**3, 10**4, 10**5, 10**6, 10**7]:\n",
    "    print(N, sqrt2logalpha/(beta*math.sqrt(N)))"
   ]
  },
  {
   "cell_type": "markdown",
   "metadata": {},
   "source": [
    "## Conditional binomial audit\n",
    "\n",
    "Suppose we sample $N=30,000$ ballots that have a vote for either the winner or the loser, and among those ballots the sample margin is $1\\%$. We invert the binomial distribution to find a $(1-\\alpha)100\\%$ lower confidence bound for the true margin. The lower bound is above $50\\%$; we would reject the null and conclude that the winner was called correctly."
   ]
  },
  {
   "cell_type": "code",
   "execution_count": 4,
   "metadata": {},
   "outputs": [
    {
     "data": {
      "text/plain": [
       "(0.5002350773868567, 1.0)"
      ]
     },
     "execution_count": 4,
     "metadata": {},
     "output_type": "execute_result"
    }
   ],
   "source": [
    "N = 30000\n",
    "margin = 0.01\n",
    "binom_conf_interval(N,math.ceil((0.5+margin/2)*N), 1-alpha, alternative='lower')"
   ]
  },
  {
   "cell_type": "markdown",
   "metadata": {},
   "source": [
    "Suppose the sampling probability is $0.04\\%$ and the population is $10^8$. The number of ballots sampled is approximately Poisson distributed with parameter $0.0004*10^8 = 40,000$. What's the chance that we sample more than $N=30,000$ ballots? With probability $1$, we would sample at least $N$ ballots and thus be able to reject the null at level $\\alpha$ most of the time."
   ]
  },
  {
   "cell_type": "code",
   "execution_count": 5,
   "metadata": {},
   "outputs": [
    {
     "data": {
      "text/plain": [
       "1.0"
      ]
     },
     "execution_count": 5,
     "metadata": {},
     "output_type": "execute_result"
    }
   ],
   "source": [
    "mu = 0.0004*10**8 # Poisson approximation for entire contest\n",
    "1-poisson.cdf(N,mu) # approximate chance of selecting more than N ballots"
   ]
  },
  {
   "cell_type": "markdown",
   "metadata": {},
   "source": [
    "We repeat this calculation for a sample size $N=275$, population size $10^5$, sampling rate $0.35\\%$, and sample margin $10\\%$. The chance of sampling at least $N$ ballots is nearly one: with a sampling rate of $0.35\\%$, we will reject the null most of the time."
   ]
  },
  {
   "cell_type": "code",
   "execution_count": 6,
   "metadata": {},
   "outputs": [
    {
     "data": {
      "text/plain": [
       "(0.5013434567377136, 1.0)"
      ]
     },
     "execution_count": 6,
     "metadata": {},
     "output_type": "execute_result"
    }
   ],
   "source": [
    "N = 275\n",
    "margin = 0.1\n",
    "binom_conf_interval(N,math.ceil((0.5+margin/2)*N), 1-alpha, alternative='lower')"
   ]
  },
  {
   "cell_type": "code",
   "execution_count": 7,
   "metadata": {},
   "outputs": [
    {
     "data": {
      "text/plain": [
       "0.99998173867584483"
      ]
     },
     "execution_count": 7,
     "metadata": {},
     "output_type": "execute_result"
    }
   ],
   "source": [
    "mu = 0.0035*10**5 # Poisson approximation for the entire contest\n",
    "1-poisson.cdf(N,mu) # approximate chance of selecting more than N ballots"
   ]
  },
  {
   "cell_type": "code",
   "execution_count": 8,
   "metadata": {},
   "outputs": [
    {
     "data": {
      "text/plain": [
       "0.030012559669326415"
      ]
     },
     "execution_count": 8,
     "metadata": {},
     "output_type": "execute_result"
    }
   ],
   "source": [
    "precinct = 1000\n",
    "(1-.0035)**precinct # chance a precinct audits no ballot"
   ]
  },
  {
   "cell_type": "code",
   "execution_count": 9,
   "metadata": {},
   "outputs": [
    {
     "data": {
      "text/plain": [
       "0.001019394437617005"
      ]
     },
     "execution_count": 9,
     "metadata": {},
     "output_type": "execute_result"
    }
   ],
   "source": [
    "muPrecinct = 0.0035*1000 # Poisson approximation in a single precinct\n",
    "1-poisson.cdf(10,muPrecinct) # approximate chance of selecting more than 10 ballots"
   ]
  },
  {
   "cell_type": "markdown",
   "metadata": {
    "collapsed": true
   },
   "source": [
    "## Probability of error\n",
    "\n",
    "Failure to confirm the result of a contest when the result was actually correct means that we fail to reject the null hypothesis when the alternative is true. This is $1 - power$. We compute $power$ below.\n",
    "\n",
    "The statistic is a conditional binomial: $n_w$ given $N$ (number of ballots for the winner or loser sampled) is Binom$(N, p)$ where $p$ is the proportion of votes for the winner among the valid votes for either the winner or loser in the population. Under the null, $p \\leq 0.5$ and under the alternative, $p > 0.5$.\n",
    "\n",
    "We threshold at which we reject the null is the quantile of the Binom$(N,p)$ distribution where at most $\\alpha$ of the mass lies above. Let $q_\\alpha$ be this point, i.e. $\\mathbb{P}(n_w \\geq q_\\alpha || p=0.5) \\leq \\alpha$. The power of the test is $\\mathbb{P}(n_w \\geq q_\\alpha || p = p_1)$ for some $p_1 > 0.5$."
   ]
  },
  {
   "cell_type": "code",
   "execution_count": 30,
   "metadata": {},
   "outputs": [
    {
     "data": {
      "text/plain": [
       "17654.0"
      ]
     },
     "execution_count": 30,
     "metadata": {},
     "output_type": "execute_result"
    }
   ],
   "source": [
    "alpha = 0.05\n",
    "N = 35000\n",
    "pi = 0.0004\n",
    "pop = 10**8\n",
    "\n",
    "q_alpha = binom.ppf(1-alpha, N, 0.5)\n",
    "q_alpha"
   ]
  },
  {
   "cell_type": "code",
   "execution_count": 31,
   "metadata": {},
   "outputs": [
    {
     "name": "stdout",
     "output_type": "stream",
     "text": [
      "[0.58674572257178825, 0.98170446795873967, 0.99999999999999356, 0.99999999999999989]\n"
     ]
    }
   ],
   "source": [
    "power = []\n",
    "for margin in [0.01, 0.02, 0.05, 0.1]:\n",
    "    p1 = 0.5 + margin/2\n",
    "    power.append(binom.sf(q_alpha, N, p1)) # binom.sf = 1 - binom.cdf\n",
    "    \n",
    "print(power)"
   ]
  },
  {
   "cell_type": "markdown",
   "metadata": {},
   "source": [
    "In Bernoulli sampling, $N$ is not fixed. In essence, we need $N$ and $p_1$ both large enough in order to have good power.\n",
    "\n",
    "Let $N_{tot}$ denote the number of ballots for the winner or loser **in the population**. The unconditional power is \n",
    "\n",
    "$$\\sum_{N=0}^{N_{tot}} \\mathbb{P}(\\text{sample } N \\text{ out of } N_{tot})\\mathbb{P}(n_w \\geq q_\\alpha ||N, p = p_1) = \\sum_{N=0}^{N_{tot}} {N_{tot} \\choose N} \\pi^{N}(1-\\pi)^{N_{tot}-N} \\mathbb{P}(n_w \\geq q_\\alpha || N, p = p_1)$$\n",
    "\n",
    "Below, we let $N_{tot}$ be $90\\%$ of the population and let $\\pi=0.0004$. The calculation will be really slow if we actually add up all these terms for $N_{tot} >> N$; instead, we can probably find a point at which $\\pi^N$ is sufficiently small that we can ignore all terms after a certain point."
   ]
  },
  {
   "cell_type": "code",
   "execution_count": 29,
   "metadata": {},
   "outputs": [
    {
     "name": "stdout",
     "output_type": "stream",
     "text": [
      "35512.0 36490.0\n",
      "[0.5917052093128975, 0.97423142796614359, 0.99005654693248746, 0.99005654693248946]\n"
     ]
    }
   ],
   "source": [
    "power_unconditional = []\n",
    "Ntot = math.floor(0.9*pop)\n",
    "unlikely_draw_lower = binom.ppf(0.005, Ntot, pi)\n",
    "unlikely_draw_upper = binom.ppf(0.995, Ntot, pi)\n",
    "\n",
    "print(unlikely_draw_lower, unlikely_draw_upper)\n",
    "for margin in [0.01, 0.02, 0.05, 0.1]:\n",
    "    p1 = 0.5 + margin/2\n",
    "    power_sum = 0\n",
    "    for N in range(int(unlikely_draw_lower), int(unlikely_draw_upper)):\n",
    "        q_alpha = binom.ppf(1-alpha, N, 0.5)\n",
    "        prob_select_N = binom.pmf(N, Ntot, pi)\n",
    "        pvalue_nw = binom.sf(q_alpha, N, p1)\n",
    "        power_sum += prob_select_N*pvalue_nw\n",
    "    power_unconditional.append(power_sum) \n",
    "    \n",
    "print(power_unconditional)"
   ]
  },
  {
   "cell_type": "markdown",
   "metadata": {},
   "source": [
    "The last problem: we don't know $N_{tot}$. We could\n",
    "\n",
    "1) Estimate it as $\\frac{n_w+n_l}{n_w+n_l+n_u}$ times the population size\n",
    "\n",
    "2) Find an lower confidence bound for $N_{tot}$ in the population. Conditional on having drawn $n_w + n_l + n_u$ ballots, the number of valid votes ${n_w+n_l}$ is distributed as hypergeometric with $n_w+n_l+n_u$ draws from a population of size $N$ with unknown parameter $N_{tot}$.\n",
    "\n",
    "My conjecture is that power will be highest when $N_{tot}$ is as large as possible: as $N_{tot}$ grows, the chance of sampling a large $N$ becomes better.\n",
    "If the power is sufficiently good at this lower bound value, then we're in good shape."
   ]
  },
  {
   "cell_type": "code",
   "execution_count": 34,
   "metadata": {},
   "outputs": [
    {
     "name": "stdout",
     "output_type": "stream",
     "text": [
      "(90664560, 100000000)\n",
      "0.9066456\n"
     ]
    }
   ],
   "source": [
    "n_u = int(0.1*N) # suppose that we really sampled N+n_u ballots but n_u of them were invalid.\n",
    "\n",
    "ci = hypergeom_conf_interval(N+n_u, N, pop, cl = 0.95, alternative = \"lower\")\n",
    "print(ci)\n",
    "print(ci[0]/pop)"
   ]
  },
  {
   "cell_type": "markdown",
   "metadata": {},
   "source": [
    "Now plug in this lower confidence bound for $N_{tot}$ and find the unconditional power:"
   ]
  },
  {
   "cell_type": "code",
   "execution_count": 35,
   "metadata": {},
   "outputs": [
    {
     "name": "stdout",
     "output_type": "stream",
     "text": [
      "35776.0 36757.0\n",
      "[0.59436120210690091, 0.97473234642800344, 0.99001050455186712, 0.99001050455186856]\n"
     ]
    }
   ],
   "source": [
    "power_unconditional = []\n",
    "Ntot = ci[0]\n",
    "unlikely_draw_lower = binom.ppf(0.005, Ntot, pi)\n",
    "unlikely_draw_upper = binom.ppf(0.995, Ntot, pi)\n",
    "\n",
    "print(unlikely_draw_lower, unlikely_draw_upper)\n",
    "for margin in [0.01, 0.02, 0.05, 0.1]:\n",
    "    p1 = 0.5 + margin/2\n",
    "    power_sum = 0\n",
    "    for N in range(int(unlikely_draw_lower), int(unlikely_draw_upper)):\n",
    "        q_alpha = binom.ppf(1-alpha, N, 0.5)\n",
    "        prob_select_N = binom.pmf(N, Ntot, pi)\n",
    "        pvalue_nw = binom.sf(q_alpha, N, p1)\n",
    "        power_sum += prob_select_N*pvalue_nw\n",
    "    power_unconditional.append(power_sum) \n",
    "    \n",
    "print(power_unconditional)"
   ]
  }
 ],
 "metadata": {
  "kernelspec": {
   "display_name": "Python 3",
   "language": "python",
   "name": "python3"
  },
  "language_info": {
   "codemirror_mode": {
    "name": "ipython",
    "version": 3
   },
   "file_extension": ".py",
   "mimetype": "text/x-python",
   "name": "python",
   "nbconvert_exporter": "python",
   "pygments_lexer": "ipython3",
   "version": "3.6.1"
  }
 },
 "nbformat": 4,
 "nbformat_minor": 2
}
