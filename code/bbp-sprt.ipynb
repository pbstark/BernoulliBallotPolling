{
 "cells": [
  {
   "cell_type": "markdown",
   "metadata": {},
   "source": [
    "# Ballot-polling SPRT\n",
    "\n",
    "This notebook explores the ballot-polling SPRT we've developed."
   ]
  },
  {
   "cell_type": "code",
   "execution_count": 1,
   "metadata": {
    "collapsed": false
   },
   "outputs": [
    {
     "name": "stderr",
     "output_type": "stream",
     "text": [
      "/Library/Frameworks/Python.framework/Versions/3.4/lib/python3.4/importlib/_bootstrap.py:321: RuntimeWarning: numpy.dtype size changed, may indicate binary incompatibility. Expected 96, got 88\n",
      "  return f(*args, **kwds)\n",
      "/Library/Frameworks/Python.framework/Versions/3.4/lib/python3.4/importlib/_bootstrap.py:321: RuntimeWarning: numpy.ufunc size changed, may indicate binary incompatibility. Expected 192, got 176\n",
      "  return f(*args, **kwds)\n",
      "/Library/Frameworks/Python.framework/Versions/3.4/lib/python3.4/importlib/_bootstrap.py:321: RuntimeWarning: numpy.dtype size changed, may indicate binary incompatibility. Expected 96, got 88\n",
      "  return f(*args, **kwds)\n",
      "/Library/Frameworks/Python.framework/Versions/3.4/lib/python3.4/importlib/_bootstrap.py:321: RuntimeWarning: numpy.ufunc size changed, may indicate binary incompatibility. Expected 192, got 176\n",
      "  return f(*args, **kwds)\n"
     ]
    }
   ],
   "source": [
    "%matplotlib inline\n",
    "from __future__ import division\n",
    "import math\n",
    "import numpy as np\n",
    "import numpy.random\n",
    "import scipy as sp\n",
    "import scipy.stats\n",
    "import pandas as pd\n",
    "import matplotlib.pyplot as plt\n",
    "import seaborn as sb\n",
    "\n",
    "from sprt import ballot_polling_sprt\n",
    "from hypergeometric import hypergeometric_optim"
   ]
  },
  {
   "cell_type": "markdown",
   "metadata": {},
   "source": [
    "The proportion of votes for each candidate in the sample is exactly those in the population, except the population is 50 times larger. The sample of votes is made up of 2000 votes for candidate $w$, 1800 votes for candidate $\\ell$, and 500 invalid votes. \n",
    "\n",
    "Candidate $w$ earned $46.5\\%$ of the votes and candidate $\\ell$ earned $41.9\\%$ of the votes, corresponding to a difference of about $4.6\\%$. We will test the null hypothesis that they received the same proportion of votes overall against the alternative that the reported vote totals are correct.\n",
    "\n",
    "## Trinomial SPRT without replacement\n",
    "\n",
    "First, suppose we don't know the number of invalid ballots. Minimize the LR over possible values."
   ]
  },
  {
   "cell_type": "code",
   "execution_count": 2,
   "metadata": {
    "collapsed": false
   },
   "outputs": [
    {
     "name": "stdout",
     "output_type": "stream",
     "text": [
      "{'pvalue': 0.004640183723708297, 'Nu_used': 25000, 'upper_threshold': 20.0, 'decision': 1, 'sample_proportion': (0.46511627906976744, 0.4186046511627907, 0.11627906976744186), 'Nw_used': 95000, 'lower_threshold': 0.0, 'LR': 215.50870817693178}\n"
     ]
    }
   ],
   "source": [
    "alpha = 0.05\n",
    "sample = [1]*2000 + [0]*1800 + [np.nan]*500\n",
    "popsize = 50*len(sample)\n",
    "res = ballot_polling_sprt(sample, popsize, alpha, Vw=2000*50, Vl=1800*50)\n",
    "print(res)"
   ]
  },
  {
   "cell_type": "markdown",
   "metadata": {},
   "source": [
    "The optimization does the right thing: if we did know that there were $500 \\times 50$ invalid votes in the population, we'd get the same result!"
   ]
  },
  {
   "cell_type": "code",
   "execution_count": 3,
   "metadata": {
    "collapsed": false
   },
   "outputs": [
    {
     "name": "stdout",
     "output_type": "stream",
     "text": [
      "{'pvalue': 0.004640183723708297, 'Nu_used': 25000, 'upper_threshold': 20.0, 'decision': 1, 'sample_proportion': (0.46511627906976744, 0.4186046511627907, 0.11627906976744186), 'Nw_used': 95000.0, 'lower_threshold': 0.0, 'LR': 215.50870817693178}\n"
     ]
    }
   ],
   "source": [
    "res = ballot_polling_sprt(sample, popsize, alpha, Vw=2000*50, Vl=1800*50, number_invalid=500*50)\n",
    "print(res)"
   ]
  },
  {
   "cell_type": "markdown",
   "metadata": {},
   "source": [
    "## What happens when the reported outcome is wrong\n",
    "\n",
    "In 100 replicates, we draw samples of 500 ballots and conduct the SPRT using the reported results as the alternative hypothesis. We never reject the null.\n",
    "\n",
    "We do the same for samples of size 1000.\n",
    "\n",
    "We also test the null hypothesis with the conditional hypergeometric test. The first comparison uses the same risk limit of 5%, while the second cuts the risk limit in half to account for the possibility of escalating the audit.\n",
    "\n",
    "Candidate | Reported | Actual\n",
    "---|---|---\n",
    "A | 5500 | 4900 \n",
    "B | 4200 | 5000 \n",
    "Ballots | 10,000 | 10,000 \n",
    "Diluted margin | 13% | -1% "
   ]
  },
  {
   "cell_type": "code",
   "execution_count": 4,
   "metadata": {
    "collapsed": false
   },
   "outputs": [
    {
     "name": "stdout",
     "output_type": "stream",
     "text": [
      "Samples of size 500, SPRT rejection rate: 0.0\n",
      "Samples of size 500, fixed n hypergeometric rejection rate: 0.03\n",
      "Samples of size 500, fixed n hypergeometric rejection rate at reduced risk limit: 0.01\n",
      "Samples of size 1000, SPRT rejection rate: 0.0\n",
      "Samples of size 1000, fixed n hypergeometric rejection rate: 0.04\n",
      "Samples of size 1000, fixed n hypergeometric rejection rate at reduced risk limit: 0.01\n"
     ]
    }
   ],
   "source": [
    "np.random.seed(8062018)\n",
    "alpha = 0.05\n",
    "population = [1]*4900 + [0]*5000 + [np.nan]*100\n",
    "popsize = len(population)\n",
    "reps = 100\n",
    "rejects_sprt = 0\n",
    "rejects_hyper = 0\n",
    "rejects_hyper_red = 0\n",
    "\n",
    "for i in range(reps):\n",
    "    sample = np.random.choice(population, replace=False, size=500)\n",
    "    res = ballot_polling_sprt(sample, popsize, alpha, Vw=5500, Vl=4200)\n",
    "    if res['decision']==1:\n",
    "        rejects_sprt += 1\n",
    "    res2 = hypergeometric_optim(sample, popsize)\n",
    "    if res2['pvalue'] <= alpha:\n",
    "        rejects_hyper += 1\n",
    "    if res2['pvalue'] <= alpha/2:\n",
    "        rejects_hyper_red += 1\n",
    "\n",
    "print(\"Samples of size 500, SPRT rejection rate:\", rejects_sprt/reps)\n",
    "print(\"Samples of size 500, fixed n hypergeometric rejection rate:\", rejects_hyper/reps)\n",
    "print(\"Samples of size 500, fixed n hypergeometric rejection rate at reduced risk limit:\", rejects_hyper_red/reps)\n",
    "\n",
    "\n",
    "rejects_sprt = 0\n",
    "rejects_hyper = 0\n",
    "rejects_hyper_red = 0\n",
    "\n",
    "for i in range(reps):\n",
    "    sample = np.random.choice(population, replace=False, size=1000)\n",
    "    res = ballot_polling_sprt(sample, popsize, alpha, Vw=5500, Vl=4200)\n",
    "    if res['decision']==1:\n",
    "        rejects_sprt += 1\n",
    "    res2 = hypergeometric_optim(sample, popsize)\n",
    "    if res2['pvalue'] <= alpha:\n",
    "        rejects_hyper += 1\n",
    "    if res2['pvalue'] <= alpha/2:\n",
    "        rejects_hyper_red += 1\n",
    "\n",
    "    \n",
    "print(\"Samples of size 1000, SPRT rejection rate:\", rejects_sprt/reps)\n",
    "print(\"Samples of size 1000, fixed n hypergeometric rejection rate:\", rejects_hyper/reps)\n",
    "print(\"Samples of size 1000, fixed n hypergeometric rejection rate at reduced risk limit:\", rejects_hyper_red/reps)"
   ]
  },
  {
   "cell_type": "markdown",
   "metadata": {},
   "source": [
    "## What happens when the reported outcome is right, but counts are off\n",
    "\n",
    "In 100 replicates, we draw samples of ballots and conduct the SPRT using the reported results as the alternative hypothesis. The power of the SPRT is less than the fixed sample size conditional hypergeometric test, even when the risk limit is halved. But a population of $N=10,000$ is probably smaller than what we'd use Bernoulli ballot polling for.\n",
    "\n",
    "Candidate | Reported | Actual\n",
    "---|---|---\n",
    "A | 5500 | 5300 \n",
    "B | 4200 | 4300 \n",
    "Ballots | 10,000 | 10,000 \n",
    "Diluted margin | 13% | 10% "
   ]
  },
  {
   "cell_type": "code",
   "execution_count": 5,
   "metadata": {
    "collapsed": false
   },
   "outputs": [
    {
     "name": "stdout",
     "output_type": "stream",
     "text": [
      "Samples of size 1000, SPRT rejection rate: 0.61\n",
      "Samples of size 1000, fixed n hypergeometric rejection rate: 0.97\n",
      "Samples of size 1000, fixed n hypergeometric rejection rate at reduced risk limit: 0.95\n",
      "Samples of size 2000, SPRT rejection rate: 0.77\n",
      "Samples of size 2000, fixed n hypergeometric rejection rate: 1.0\n",
      "Samples of size 2000, fixed n hypergeometric rejection rate at reduced risk limit: 1.0\n",
      "Samples of size 3000, SPRT rejection rate: 0.9\n",
      "Samples of size 3000, fixed n hypergeometric rejection rate: 1.0\n",
      "Samples of size 3000, fixed n hypergeometric rejection rate at reduced risk limit: 1.0\n"
     ]
    }
   ],
   "source": [
    "np.random.seed(8062018)\n",
    "alpha = 0.05\n",
    "population = [1]*5300 + [0]*4300 + [np.nan]*400\n",
    "popsize = len(population)\n",
    "reps = 100\n",
    "rejects_sprt = 0\n",
    "rejects_hyper = 0\n",
    "rejects_hyper_red = 0\n",
    "\n",
    "for i in range(reps):\n",
    "    sample = np.random.choice(population, replace=False, size=1000)\n",
    "    res = ballot_polling_sprt(sample, popsize, alpha, Vw=5500, Vl=4200)\n",
    "    if res['decision']==1:\n",
    "        rejects_sprt += 1\n",
    "    res2 = hypergeometric_optim(sample, popsize)\n",
    "    if res2['pvalue'] <= alpha:\n",
    "        rejects_hyper += 1\n",
    "    if res2['pvalue'] <= alpha/2:\n",
    "        rejects_hyper_red += 1\n",
    "\n",
    "print(\"Samples of size 1000, SPRT rejection rate:\", rejects_sprt/reps)\n",
    "print(\"Samples of size 1000, fixed n hypergeometric rejection rate:\", rejects_hyper/reps)\n",
    "print(\"Samples of size 1000, fixed n hypergeometric rejection rate at reduced risk limit:\", rejects_hyper_red/reps)\n",
    "\n",
    "rejects_sprt = 0\n",
    "rejects_hyper = 0\n",
    "rejects_hyper_red = 0\n",
    "\n",
    "for i in range(reps):\n",
    "    sample = np.random.choice(population, replace=False, size=2000)\n",
    "    res = ballot_polling_sprt(sample, popsize, alpha, Vw=5500, Vl=4200)\n",
    "    if res['decision']==1:\n",
    "        rejects_sprt += 1\n",
    "    res2 = hypergeometric_optim(sample, popsize)\n",
    "    if res2['pvalue'] <= alpha:\n",
    "        rejects_hyper += 1\n",
    "    if res2['pvalue'] <= alpha/2:\n",
    "        rejects_hyper_red += 1\n",
    "\n",
    "print(\"Samples of size 2000, SPRT rejection rate:\", rejects_sprt/reps)\n",
    "print(\"Samples of size 2000, fixed n hypergeometric rejection rate:\", rejects_hyper/reps)\n",
    "print(\"Samples of size 2000, fixed n hypergeometric rejection rate at reduced risk limit:\", rejects_hyper_red/reps)\n",
    "\n",
    "rejects_sprt = 0\n",
    "rejects_hyper = 0\n",
    "rejects_hyper_red = 0\n",
    "\n",
    "for i in range(reps):\n",
    "    sample = np.random.choice(population, replace=False, size=3000)\n",
    "    res = ballot_polling_sprt(sample, popsize, alpha, Vw=5500, Vl=4200)\n",
    "    if res['decision']==1:\n",
    "        rejects_sprt += 1\n",
    "    res2 = hypergeometric_optim(sample, popsize)\n",
    "    if res2['pvalue'] <= alpha:\n",
    "        rejects_hyper += 1\n",
    "    if res2['pvalue'] <= alpha/2:\n",
    "        rejects_hyper_red += 1\n",
    "\n",
    "print(\"Samples of size 3000, SPRT rejection rate:\", rejects_sprt/reps)\n",
    "print(\"Samples of size 3000, fixed n hypergeometric rejection rate:\", rejects_hyper/reps)\n",
    "print(\"Samples of size 3000, fixed n hypergeometric rejection rate at reduced risk limit:\", rejects_hyper_red/reps)"
   ]
  },
  {
   "cell_type": "markdown",
   "metadata": {},
   "source": [
    "## What happens when the reported outcome is exactly right, N=100k\n",
    "\n",
    "In 100 replicates, we draw samples of ballots and conduct the SPRT using the reported results as the alternative hypothesis. This population is a factor of 10 bigger. In the paper Table 1, we estimate that a with a risk limit of 5%, a sampling rate of 1% gives 80% power and a sampling rate of 6% gives 99% power using the fixed $n$ hypergeometric test. How does the SPRT compare?\n",
    "\n",
    "We run the SPRT with both 5% and 10% risk limits. Using a risk limit of 10% makes the SPRT comparable to running the conditional hypergeometric test with a reduced first-stage risk limit, allowing for further escalation.\n",
    "\n",
    "Candidate | Reported | Actual\n",
    "---|---|---\n",
    "A | 55,000 | 55,000 \n",
    "B | 45,000 | 45,000 \n",
    "Ballots | 100,000 | 100,000 \n",
    "Diluted margin | 10% | 10% "
   ]
  },
  {
   "cell_type": "code",
   "execution_count": 8,
   "metadata": {
    "collapsed": false
   },
   "outputs": [
    {
     "name": "stdout",
     "output_type": "stream",
     "text": [
      "Risk limit: 0.05\n",
      "Samples of size 1% of population, SPRT rejection rate: 0.73\n",
      "Samples of size 2% of population, SPRT rejection rate: 0.96\n",
      "Samples of size 6% of population, SPRT rejection rate: 1.0\n",
      "Risk limit: 0.1\n",
      "Samples of size 1% of population, SPRT rejection rate: 0.82\n",
      "Samples of size 2% of population, SPRT rejection rate: 0.94\n",
      "Samples of size 6% of population, SPRT rejection rate: 1.0\n"
     ]
    }
   ],
   "source": [
    "np.random.seed(8062018)\n",
    "population = [1]*55000 + [0]*45000\n",
    "popsize = len(population)\n",
    "reps = 100\n",
    "\n",
    "for alpha in [0.05, 0.1]:\n",
    "    print(\"Risk limit:\", alpha)\n",
    "\n",
    "    rejects_sprt = 0\n",
    "    for i in range(reps):\n",
    "        sample = np.random.choice(population, replace=False, size=1000)\n",
    "        res = ballot_polling_sprt(sample, popsize, alpha, Vw=55000, Vl=45000)\n",
    "        if res['decision']==1:\n",
    "            rejects_sprt += 1\n",
    "\n",
    "    print(\"Samples of size 1% of population, SPRT rejection rate:\", rejects_sprt/reps)\n",
    "\n",
    "    rejects_sprt = 0\n",
    "\n",
    "    for i in range(reps):\n",
    "        sample = np.random.choice(population, replace=False, size=2000)\n",
    "        res = ballot_polling_sprt(sample, popsize, alpha, Vw=55000, Vl=45000)\n",
    "        if res['decision']==1:\n",
    "            rejects_sprt += 1\n",
    "\n",
    "    print(\"Samples of size 2% of population, SPRT rejection rate:\", rejects_sprt/reps)\n",
    "\n",
    "    rejects_sprt = 0\n",
    "\n",
    "    for i in range(reps):\n",
    "        sample = np.random.choice(population, replace=False, size=6000)\n",
    "        res = ballot_polling_sprt(sample, popsize, alpha, Vw=55000, Vl=45000)\n",
    "        if res['decision']==1:\n",
    "            rejects_sprt += 1\n",
    "\n",
    "    print(\"Samples of size 6% of population, SPRT rejection rate:\", rejects_sprt/reps)"
   ]
  },
  {
   "cell_type": "markdown",
   "metadata": {},
   "source": [
    "Do it again, but now the margin is 2%. The paper Table 1 says that at risk limit 5%, the conditional hypergeometric test needs a 14% sample for 80% power, 19% sample for 90% power, and 48% sample for 99% power.\n",
    "\n",
    "Candidate | Reported | Actual\n",
    "---|---|---\n",
    "A | 51,000 | 51,000 \n",
    "B | 49,000 | 49,000 \n",
    "Ballots | 100,000 | 100,000 \n",
    "Diluted margin | 2% | 2% "
   ]
  },
  {
   "cell_type": "code",
   "execution_count": 7,
   "metadata": {
    "collapsed": false
   },
   "outputs": [
    {
     "name": "stdout",
     "output_type": "stream",
     "text": [
      "Risk limit: 0.05\n",
      "Samples of size 14% of population, SPRT rejection rate: 0.44\n",
      "Samples of size 19% of population, SPRT rejection rate: 0.66\n",
      "Samples of size 48% of population, SPRT rejection rate: 0.98\n",
      "Risk limit: 0.1\n",
      "Samples of size 14% of population, SPRT rejection rate: 0.63\n",
      "Samples of size 19% of population, SPRT rejection rate: 0.77\n",
      "Samples of size 48% of population, SPRT rejection rate: 0.99\n"
     ]
    }
   ],
   "source": [
    "np.random.seed(8062018)\n",
    "population = [1]*51000 + [0]*49000\n",
    "popsize = len(population)\n",
    "reps = 100\n",
    "\n",
    "for alpha in [0.05, 0.1]:\n",
    "    print(\"Risk limit:\", alpha)\n",
    "    rejects_sprt = 0\n",
    "    for i in range(reps):\n",
    "        sample = np.random.choice(population, replace=False, size=14000)\n",
    "        res = ballot_polling_sprt(sample, popsize, alpha, Vw=51000, Vl=49000)\n",
    "        if res['decision']==1:\n",
    "            rejects_sprt += 1\n",
    "\n",
    "    print(\"Samples of size 14% of population, SPRT rejection rate:\", rejects_sprt/reps)\n",
    "\n",
    "    rejects_sprt = 0\n",
    "\n",
    "    for i in range(reps):\n",
    "        sample = np.random.choice(population, replace=False, size=19000)\n",
    "        res = ballot_polling_sprt(sample, popsize, alpha, Vw=51000, Vl=49000)\n",
    "        if res['decision']==1:\n",
    "            rejects_sprt += 1\n",
    "\n",
    "    print(\"Samples of size 19% of population, SPRT rejection rate:\", rejects_sprt/reps)\n",
    "\n",
    "    rejects_sprt = 0\n",
    "\n",
    "    for i in range(reps):\n",
    "        sample = np.random.choice(population, replace=False, size=48000)\n",
    "        res = ballot_polling_sprt(sample, popsize, alpha, Vw=51000, Vl=49000)\n",
    "        if res['decision']==1:\n",
    "            rejects_sprt += 1\n",
    "\n",
    "    print(\"Samples of size 48% of population, SPRT rejection rate:\", rejects_sprt/reps)"
   ]
  }
 ],
 "metadata": {
  "kernelspec": {
   "display_name": "Python 3",
   "language": "python",
   "name": "python3"
  },
  "language_info": {
   "codemirror_mode": {
    "name": "ipython",
    "version": 3
   },
   "file_extension": ".py",
   "mimetype": "text/x-python",
   "name": "python",
   "nbconvert_exporter": "python",
   "pygments_lexer": "ipython3",
   "version": "3.4.3"
  }
 },
 "nbformat": 4,
 "nbformat_minor": 2
}
